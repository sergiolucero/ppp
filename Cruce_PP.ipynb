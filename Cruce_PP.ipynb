{
 "cells": [
  {
   "cell_type": "markdown",
   "metadata": {},
   "source": [
    "# Cruce Presidencial 2017 Plebiscito 2020\n",
    "Exploramos los resultados por mesa:"
   ]
  },
  {
   "cell_type": "code",
   "execution_count": 27,
   "metadata": {},
   "outputs": [],
   "source": [
    "import pandas as pd\n",
    "ple = pd.read_excel('DATA/Plebiscito_2020.xlsx', sheet_name='resultados por mesa')\n",
    "#pre = pd.read_excel('DATA/Presidencial_2017_2v.xlsx')"
   ]
  },
  {
   "cell_type": "code",
   "execution_count": 29,
   "metadata": {},
   "outputs": [
    {
     "data": {
      "text/html": [
       "<div>\n",
       "<style scoped>\n",
       "    .dataframe tbody tr th:only-of-type {\n",
       "        vertical-align: middle;\n",
       "    }\n",
       "\n",
       "    .dataframe tbody tr th {\n",
       "        vertical-align: top;\n",
       "    }\n",
       "\n",
       "    .dataframe thead th {\n",
       "        text-align: right;\n",
       "    }\n",
       "</style>\n",
       "<table border=\"1\" class=\"dataframe\">\n",
       "  <thead>\n",
       "    <tr style=\"text-align: right;\">\n",
       "      <th></th>\n",
       "      <th>region</th>\n",
       "      <th>comuna</th>\n",
       "      <th>local</th>\n",
       "      <th>mesa</th>\n",
       "      <th>apruebo</th>\n",
       "      <th>rechazo</th>\n",
       "    </tr>\n",
       "  </thead>\n",
       "  <tbody>\n",
       "    <tr>\n",
       "      <th>0</th>\n",
       "      <td>DE ANTOFAGASTA</td>\n",
       "      <td>ANTOFAGASTA</td>\n",
       "      <td>COLEGIO ANTOFAGASTA</td>\n",
       "      <td>113M</td>\n",
       "      <td>190</td>\n",
       "      <td>23</td>\n",
       "    </tr>\n",
       "    <tr>\n",
       "      <th>1</th>\n",
       "      <td>DE ANTOFAGASTA</td>\n",
       "      <td>ANTOFAGASTA</td>\n",
       "      <td>COLEGIO ANTOFAGASTA</td>\n",
       "      <td>114M</td>\n",
       "      <td>179</td>\n",
       "      <td>37</td>\n",
       "    </tr>\n",
       "    <tr>\n",
       "      <th>2</th>\n",
       "      <td>DE ANTOFAGASTA</td>\n",
       "      <td>ANTOFAGASTA</td>\n",
       "      <td>COLEGIO ANTOFAGASTA</td>\n",
       "      <td>115M</td>\n",
       "      <td>191</td>\n",
       "      <td>29</td>\n",
       "    </tr>\n",
       "    <tr>\n",
       "      <th>3</th>\n",
       "      <td>DE ANTOFAGASTA</td>\n",
       "      <td>ANTOFAGASTA</td>\n",
       "      <td>COLEGIO ANTOFAGASTA</td>\n",
       "      <td>116M</td>\n",
       "      <td>168</td>\n",
       "      <td>35</td>\n",
       "    </tr>\n",
       "    <tr>\n",
       "      <th>4</th>\n",
       "      <td>DE ANTOFAGASTA</td>\n",
       "      <td>ANTOFAGASTA</td>\n",
       "      <td>COLEGIO ANTOFAGASTA</td>\n",
       "      <td>282</td>\n",
       "      <td>128</td>\n",
       "      <td>24</td>\n",
       "    </tr>\n",
       "  </tbody>\n",
       "</table>\n",
       "</div>"
      ],
      "text/plain": [
       "           region       comuna                local  mesa  apruebo  rechazo\n",
       "0  DE ANTOFAGASTA  ANTOFAGASTA  COLEGIO ANTOFAGASTA  113M      190       23\n",
       "1  DE ANTOFAGASTA  ANTOFAGASTA  COLEGIO ANTOFAGASTA  114M      179       37\n",
       "2  DE ANTOFAGASTA  ANTOFAGASTA  COLEGIO ANTOFAGASTA  115M      191       29\n",
       "3  DE ANTOFAGASTA  ANTOFAGASTA  COLEGIO ANTOFAGASTA  116M      168       35\n",
       "4  DE ANTOFAGASTA  ANTOFAGASTA  COLEGIO ANTOFAGASTA   282      128       24"
      ]
     },
     "execution_count": 29,
     "metadata": {},
     "output_type": "execute_result"
    }
   ],
   "source": [
    "ple.head()[['region','comuna','local','mesa','apruebo','rechazo']]"
   ]
  },
  {
   "cell_type": "code",
   "execution_count": 30,
   "metadata": {},
   "outputs": [
    {
     "data": {
      "text/html": [
       "<div>\n",
       "<style scoped>\n",
       "    .dataframe tbody tr th:only-of-type {\n",
       "        vertical-align: middle;\n",
       "    }\n",
       "\n",
       "    .dataframe tbody tr th {\n",
       "        vertical-align: top;\n",
       "    }\n",
       "\n",
       "    .dataframe thead th {\n",
       "        text-align: right;\n",
       "    }\n",
       "</style>\n",
       "<table border=\"1\" class=\"dataframe\">\n",
       "  <thead>\n",
       "    <tr style=\"text-align: right;\">\n",
       "      <th></th>\n",
       "      <th>Votos TRICEL</th>\n",
       "    </tr>\n",
       "    <tr>\n",
       "      <th>Candidato</th>\n",
       "      <th></th>\n",
       "    </tr>\n",
       "  </thead>\n",
       "  <tbody>\n",
       "    <tr>\n",
       "      <th>ALEJANDRO  GUILLIER ALVAREZ</th>\n",
       "      <td>3147868.0</td>\n",
       "    </tr>\n",
       "    <tr>\n",
       "      <th>SEBASTIAN PIÑERA ECHENIQUE</th>\n",
       "      <td>3788641.0</td>\n",
       "    </tr>\n",
       "    <tr>\n",
       "      <th>TOTALES</th>\n",
       "      <td>7011558.0</td>\n",
       "    </tr>\n",
       "    <tr>\n",
       "      <th>Votos Blancos</th>\n",
       "      <td>18795.0</td>\n",
       "    </tr>\n",
       "    <tr>\n",
       "      <th>Votos Nulos</th>\n",
       "      <td>56254.0</td>\n",
       "    </tr>\n",
       "  </tbody>\n",
       "</table>\n",
       "</div>"
      ],
      "text/plain": [
       "                             Votos TRICEL\n",
       "Candidato                                \n",
       "ALEJANDRO  GUILLIER ALVAREZ     3147868.0\n",
       "SEBASTIAN PIÑERA ECHENIQUE      3788641.0\n",
       "TOTALES                         7011558.0\n",
       "Votos Blancos                     18795.0\n",
       "Votos Nulos                       56254.0"
      ]
     },
     "execution_count": 30,
     "metadata": {},
     "output_type": "execute_result"
    }
   ],
   "source": [
    "pre.groupby('Candidato').agg({'Votos TRICEL':'sum'})"
   ]
  },
  {
   "cell_type": "markdown",
   "metadata": {},
   "source": [
    "No calza 100% con https://es.wikipedia.org/wiki/Elecci%C3%B3n_presidencial_de_Chile_de_2017. Necesitamos establecer, para cada tupla (Region, comuna, mesa, tipo mesa, candidato) los votos obtenidos."
   ]
  },
  {
   "cell_type": "code",
   "execution_count": 16,
   "metadata": {},
   "outputs": [
    {
     "data": {
      "text/plain": [
       "85780"
      ]
     },
     "execution_count": 16,
     "metadata": {},
     "output_type": "execute_result"
    }
   ],
   "source": [
    "gpdf = pre[pre.Candidato.isin(['ALEJANDRO  GUILLIER ALVAREZ','SEBASTIAN PIÑERA ECHENIQUE'])]\n",
    "len(gpdf)"
   ]
  },
  {
   "cell_type": "code",
   "execution_count": 17,
   "metadata": {},
   "outputs": [
    {
     "data": {
      "text/html": [
       "<div>\n",
       "<style scoped>\n",
       "    .dataframe tbody tr th:only-of-type {\n",
       "        vertical-align: middle;\n",
       "    }\n",
       "\n",
       "    .dataframe tbody tr th {\n",
       "        vertical-align: top;\n",
       "    }\n",
       "\n",
       "    .dataframe thead th {\n",
       "        text-align: right;\n",
       "    }\n",
       "</style>\n",
       "<table border=\"1\" class=\"dataframe\">\n",
       "  <thead>\n",
       "    <tr style=\"text-align: right;\">\n",
       "      <th></th>\n",
       "      <th>Región</th>\n",
       "      <th>Provincia</th>\n",
       "      <th>Circ.Senatorial</th>\n",
       "      <th>Distrito</th>\n",
       "      <th>Comuna</th>\n",
       "      <th>Circ.Electoral</th>\n",
       "      <th>Local</th>\n",
       "      <th>Mesa</th>\n",
       "      <th>Tipo mesa</th>\n",
       "      <th>Mesas Fusionadas</th>\n",
       "      <th>Electores</th>\n",
       "      <th>Nro.voto</th>\n",
       "      <th>Candidato</th>\n",
       "      <th>Votos TRICEL</th>\n",
       "    </tr>\n",
       "  </thead>\n",
       "  <tbody>\n",
       "    <tr>\n",
       "      <th>0</th>\n",
       "      <td>1.0</td>\n",
       "      <td>DEL TAMARUGAL</td>\n",
       "      <td>2a Circunscripción</td>\n",
       "      <td>2° Distrito</td>\n",
       "      <td>CAMIÑA</td>\n",
       "      <td>CAMIÑA</td>\n",
       "      <td>ESCUELA CAMIÑA</td>\n",
       "      <td>1.0</td>\n",
       "      <td>M</td>\n",
       "      <td>1M-5M</td>\n",
       "      <td>419.0</td>\n",
       "      <td>3.0</td>\n",
       "      <td>SEBASTIAN PIÑERA ECHENIQUE</td>\n",
       "      <td>130.0</td>\n",
       "    </tr>\n",
       "    <tr>\n",
       "      <th>1</th>\n",
       "      <td>1.0</td>\n",
       "      <td>DEL TAMARUGAL</td>\n",
       "      <td>2a Circunscripción</td>\n",
       "      <td>2° Distrito</td>\n",
       "      <td>CAMIÑA</td>\n",
       "      <td>CAMIÑA</td>\n",
       "      <td>ESCUELA CAMIÑA</td>\n",
       "      <td>1.0</td>\n",
       "      <td>M</td>\n",
       "      <td>1M-5M</td>\n",
       "      <td>419.0</td>\n",
       "      <td>4.0</td>\n",
       "      <td>ALEJANDRO  GUILLIER ALVAREZ</td>\n",
       "      <td>28.0</td>\n",
       "    </tr>\n",
       "    <tr>\n",
       "      <th>4</th>\n",
       "      <td>1.0</td>\n",
       "      <td>DEL TAMARUGAL</td>\n",
       "      <td>2a Circunscripción</td>\n",
       "      <td>2° Distrito</td>\n",
       "      <td>CAMIÑA</td>\n",
       "      <td>CAMIÑA</td>\n",
       "      <td>ESCUELA CAMIÑA</td>\n",
       "      <td>2.0</td>\n",
       "      <td>M</td>\n",
       "      <td>2M-3M</td>\n",
       "      <td>441.0</td>\n",
       "      <td>3.0</td>\n",
       "      <td>SEBASTIAN PIÑERA ECHENIQUE</td>\n",
       "      <td>114.0</td>\n",
       "    </tr>\n",
       "    <tr>\n",
       "      <th>5</th>\n",
       "      <td>1.0</td>\n",
       "      <td>DEL TAMARUGAL</td>\n",
       "      <td>2a Circunscripción</td>\n",
       "      <td>2° Distrito</td>\n",
       "      <td>CAMIÑA</td>\n",
       "      <td>CAMIÑA</td>\n",
       "      <td>ESCUELA CAMIÑA</td>\n",
       "      <td>2.0</td>\n",
       "      <td>M</td>\n",
       "      <td>2M-3M</td>\n",
       "      <td>441.0</td>\n",
       "      <td>4.0</td>\n",
       "      <td>ALEJANDRO  GUILLIER ALVAREZ</td>\n",
       "      <td>28.0</td>\n",
       "    </tr>\n",
       "    <tr>\n",
       "      <th>8</th>\n",
       "      <td>1.0</td>\n",
       "      <td>DEL TAMARUGAL</td>\n",
       "      <td>2a Circunscripción</td>\n",
       "      <td>2° Distrito</td>\n",
       "      <td>CAMIÑA</td>\n",
       "      <td>CAMIÑA</td>\n",
       "      <td>ESCUELA CAMIÑA</td>\n",
       "      <td>2.0</td>\n",
       "      <td>V</td>\n",
       "      <td>2V-3V-4V</td>\n",
       "      <td>383.0</td>\n",
       "      <td>3.0</td>\n",
       "      <td>SEBASTIAN PIÑERA ECHENIQUE</td>\n",
       "      <td>90.0</td>\n",
       "    </tr>\n",
       "  </tbody>\n",
       "</table>\n",
       "</div>"
      ],
      "text/plain": [
       "   Región      Provincia     Circ.Senatorial     Distrito  Comuna  \\\n",
       "0     1.0  DEL TAMARUGAL  2a Circunscripción  2° Distrito  CAMIÑA   \n",
       "1     1.0  DEL TAMARUGAL  2a Circunscripción  2° Distrito  CAMIÑA   \n",
       "4     1.0  DEL TAMARUGAL  2a Circunscripción  2° Distrito  CAMIÑA   \n",
       "5     1.0  DEL TAMARUGAL  2a Circunscripción  2° Distrito  CAMIÑA   \n",
       "8     1.0  DEL TAMARUGAL  2a Circunscripción  2° Distrito  CAMIÑA   \n",
       "\n",
       "  Circ.Electoral           Local  Mesa Tipo mesa Mesas Fusionadas  Electores  \\\n",
       "0         CAMIÑA  ESCUELA CAMIÑA   1.0         M            1M-5M      419.0   \n",
       "1         CAMIÑA  ESCUELA CAMIÑA   1.0         M            1M-5M      419.0   \n",
       "4         CAMIÑA  ESCUELA CAMIÑA   2.0         M            2M-3M      441.0   \n",
       "5         CAMIÑA  ESCUELA CAMIÑA   2.0         M            2M-3M      441.0   \n",
       "8         CAMIÑA  ESCUELA CAMIÑA   2.0         V         2V-3V-4V      383.0   \n",
       "\n",
       "   Nro.voto                    Candidato  Votos TRICEL  \n",
       "0       3.0   SEBASTIAN PIÑERA ECHENIQUE         130.0  \n",
       "1       4.0  ALEJANDRO  GUILLIER ALVAREZ          28.0  \n",
       "4       3.0   SEBASTIAN PIÑERA ECHENIQUE         114.0  \n",
       "5       4.0  ALEJANDRO  GUILLIER ALVAREZ          28.0  \n",
       "8       3.0   SEBASTIAN PIÑERA ECHENIQUE          90.0  "
      ]
     },
     "execution_count": 17,
     "metadata": {},
     "output_type": "execute_result"
    }
   ],
   "source": [
    "gpdf.head()"
   ]
  },
  {
   "cell_type": "code",
   "execution_count": 19,
   "metadata": {},
   "outputs": [
    {
     "name": "stderr",
     "output_type": "stream",
     "text": [
      "<ipython-input-19-e206a05b4aeb>:1: SettingWithCopyWarning: \n",
      "A value is trying to be set on a copy of a slice from a DataFrame.\n",
      "Try using .loc[row_indexer,col_indexer] = value instead\n",
      "\n",
      "See the caveats in the documentation: https://pandas.pydata.org/pandas-docs/stable/user_guide/indexing.html#returning-a-view-versus-a-copy\n",
      "  gpdf['Candidato'] = gpdf.Candidato.apply(lambda c: c.split()[1])\n"
     ]
    },
    {
     "data": {
      "text/html": [
       "<div>\n",
       "<style scoped>\n",
       "    .dataframe tbody tr th:only-of-type {\n",
       "        vertical-align: middle;\n",
       "    }\n",
       "\n",
       "    .dataframe tbody tr th {\n",
       "        vertical-align: top;\n",
       "    }\n",
       "\n",
       "    .dataframe thead th {\n",
       "        text-align: right;\n",
       "    }\n",
       "</style>\n",
       "<table border=\"1\" class=\"dataframe\">\n",
       "  <thead>\n",
       "    <tr style=\"text-align: right;\">\n",
       "      <th></th>\n",
       "      <th>Votos TRICEL</th>\n",
       "    </tr>\n",
       "    <tr>\n",
       "      <th>Candidato</th>\n",
       "      <th></th>\n",
       "    </tr>\n",
       "  </thead>\n",
       "  <tbody>\n",
       "    <tr>\n",
       "      <th>GUILLIER</th>\n",
       "      <td>3147868.0</td>\n",
       "    </tr>\n",
       "    <tr>\n",
       "      <th>PIÑERA</th>\n",
       "      <td>3788641.0</td>\n",
       "    </tr>\n",
       "  </tbody>\n",
       "</table>\n",
       "</div>"
      ],
      "text/plain": [
       "           Votos TRICEL\n",
       "Candidato              \n",
       "GUILLIER      3147868.0\n",
       "PIÑERA        3788641.0"
      ]
     },
     "execution_count": 19,
     "metadata": {},
     "output_type": "execute_result"
    }
   ],
   "source": [
    "gpdf['Candidato'] = gpdf.Candidato.apply(lambda c: c.split()[1])\n",
    "gpdf.groupby('Candidato').agg({'Votos TRICEL':'sum'})"
   ]
  },
  {
   "cell_type": "code",
   "execution_count": 32,
   "metadata": {},
   "outputs": [
    {
     "data": {
      "text/html": [
       "<div>\n",
       "<style scoped>\n",
       "    .dataframe tbody tr th:only-of-type {\n",
       "        vertical-align: middle;\n",
       "    }\n",
       "\n",
       "    .dataframe tbody tr th {\n",
       "        vertical-align: top;\n",
       "    }\n",
       "\n",
       "    .dataframe thead th {\n",
       "        text-align: right;\n",
       "    }\n",
       "</style>\n",
       "<table border=\"1\" class=\"dataframe\">\n",
       "  <thead>\n",
       "    <tr style=\"text-align: right;\">\n",
       "      <th></th>\n",
       "      <th>Región</th>\n",
       "      <th>Provincia</th>\n",
       "      <th>Circ.Senatorial</th>\n",
       "      <th>Distrito</th>\n",
       "      <th>Comuna</th>\n",
       "      <th>Circ.Electoral</th>\n",
       "      <th>Local</th>\n",
       "      <th>Mesa</th>\n",
       "      <th>Tipo mesa</th>\n",
       "      <th>Mesas Fusionadas</th>\n",
       "      <th>Electores</th>\n",
       "      <th>Nro.voto</th>\n",
       "      <th>Candidato</th>\n",
       "      <th>Votos</th>\n",
       "      <th>LMT</th>\n",
       "      <th>mesa</th>\n",
       "    </tr>\n",
       "  </thead>\n",
       "  <tbody>\n",
       "    <tr>\n",
       "      <th>0</th>\n",
       "      <td>1.0</td>\n",
       "      <td>DEL TAMARUGAL</td>\n",
       "      <td>2a Circunscripción</td>\n",
       "      <td>2° Distrito</td>\n",
       "      <td>CAMIÑA</td>\n",
       "      <td>CAMIÑA</td>\n",
       "      <td>ESCUELA CAMIÑA</td>\n",
       "      <td>1.0</td>\n",
       "      <td>M</td>\n",
       "      <td>1M-5M</td>\n",
       "      <td>419.0</td>\n",
       "      <td>3.0</td>\n",
       "      <td>PIÑERA</td>\n",
       "      <td>130.0</td>\n",
       "      <td>ESCUELA CAMIÑA_1_M</td>\n",
       "      <td>1M</td>\n",
       "    </tr>\n",
       "    <tr>\n",
       "      <th>1</th>\n",
       "      <td>1.0</td>\n",
       "      <td>DEL TAMARUGAL</td>\n",
       "      <td>2a Circunscripción</td>\n",
       "      <td>2° Distrito</td>\n",
       "      <td>CAMIÑA</td>\n",
       "      <td>CAMIÑA</td>\n",
       "      <td>ESCUELA CAMIÑA</td>\n",
       "      <td>1.0</td>\n",
       "      <td>M</td>\n",
       "      <td>1M-5M</td>\n",
       "      <td>419.0</td>\n",
       "      <td>4.0</td>\n",
       "      <td>GUILLIER</td>\n",
       "      <td>28.0</td>\n",
       "      <td>ESCUELA CAMIÑA_1_M</td>\n",
       "      <td>1M</td>\n",
       "    </tr>\n",
       "    <tr>\n",
       "      <th>4</th>\n",
       "      <td>1.0</td>\n",
       "      <td>DEL TAMARUGAL</td>\n",
       "      <td>2a Circunscripción</td>\n",
       "      <td>2° Distrito</td>\n",
       "      <td>CAMIÑA</td>\n",
       "      <td>CAMIÑA</td>\n",
       "      <td>ESCUELA CAMIÑA</td>\n",
       "      <td>2.0</td>\n",
       "      <td>M</td>\n",
       "      <td>2M-3M</td>\n",
       "      <td>441.0</td>\n",
       "      <td>3.0</td>\n",
       "      <td>PIÑERA</td>\n",
       "      <td>114.0</td>\n",
       "      <td>ESCUELA CAMIÑA_2_M</td>\n",
       "      <td>2M</td>\n",
       "    </tr>\n",
       "    <tr>\n",
       "      <th>5</th>\n",
       "      <td>1.0</td>\n",
       "      <td>DEL TAMARUGAL</td>\n",
       "      <td>2a Circunscripción</td>\n",
       "      <td>2° Distrito</td>\n",
       "      <td>CAMIÑA</td>\n",
       "      <td>CAMIÑA</td>\n",
       "      <td>ESCUELA CAMIÑA</td>\n",
       "      <td>2.0</td>\n",
       "      <td>M</td>\n",
       "      <td>2M-3M</td>\n",
       "      <td>441.0</td>\n",
       "      <td>4.0</td>\n",
       "      <td>GUILLIER</td>\n",
       "      <td>28.0</td>\n",
       "      <td>ESCUELA CAMIÑA_2_M</td>\n",
       "      <td>2M</td>\n",
       "    </tr>\n",
       "    <tr>\n",
       "      <th>8</th>\n",
       "      <td>1.0</td>\n",
       "      <td>DEL TAMARUGAL</td>\n",
       "      <td>2a Circunscripción</td>\n",
       "      <td>2° Distrito</td>\n",
       "      <td>CAMIÑA</td>\n",
       "      <td>CAMIÑA</td>\n",
       "      <td>ESCUELA CAMIÑA</td>\n",
       "      <td>2.0</td>\n",
       "      <td>V</td>\n",
       "      <td>2V-3V-4V</td>\n",
       "      <td>383.0</td>\n",
       "      <td>3.0</td>\n",
       "      <td>PIÑERA</td>\n",
       "      <td>90.0</td>\n",
       "      <td>ESCUELA CAMIÑA_2_V</td>\n",
       "      <td>2V</td>\n",
       "    </tr>\n",
       "  </tbody>\n",
       "</table>\n",
       "</div>"
      ],
      "text/plain": [
       "   Región      Provincia     Circ.Senatorial     Distrito  Comuna  \\\n",
       "0     1.0  DEL TAMARUGAL  2a Circunscripción  2° Distrito  CAMIÑA   \n",
       "1     1.0  DEL TAMARUGAL  2a Circunscripción  2° Distrito  CAMIÑA   \n",
       "4     1.0  DEL TAMARUGAL  2a Circunscripción  2° Distrito  CAMIÑA   \n",
       "5     1.0  DEL TAMARUGAL  2a Circunscripción  2° Distrito  CAMIÑA   \n",
       "8     1.0  DEL TAMARUGAL  2a Circunscripción  2° Distrito  CAMIÑA   \n",
       "\n",
       "  Circ.Electoral           Local  Mesa Tipo mesa Mesas Fusionadas  Electores  \\\n",
       "0         CAMIÑA  ESCUELA CAMIÑA   1.0         M            1M-5M      419.0   \n",
       "1         CAMIÑA  ESCUELA CAMIÑA   1.0         M            1M-5M      419.0   \n",
       "4         CAMIÑA  ESCUELA CAMIÑA   2.0         M            2M-3M      441.0   \n",
       "5         CAMIÑA  ESCUELA CAMIÑA   2.0         M            2M-3M      441.0   \n",
       "8         CAMIÑA  ESCUELA CAMIÑA   2.0         V         2V-3V-4V      383.0   \n",
       "\n",
       "   Nro.voto Candidato  Votos                 LMT mesa  \n",
       "0       3.0    PIÑERA  130.0  ESCUELA CAMIÑA_1_M   1M  \n",
       "1       4.0  GUILLIER   28.0  ESCUELA CAMIÑA_1_M   1M  \n",
       "4       3.0    PIÑERA  114.0  ESCUELA CAMIÑA_2_M   2M  \n",
       "5       4.0  GUILLIER   28.0  ESCUELA CAMIÑA_2_M   2M  \n",
       "8       3.0    PIÑERA   90.0  ESCUELA CAMIÑA_2_V   2V  "
      ]
     },
     "execution_count": 32,
     "metadata": {},
     "output_type": "execute_result"
    }
   ],
   "source": [
    "gpdf['mesa'] = ['%d%s' %(row['Mesa'],row['Tipo mesa']) for _, row in gpdf.iterrows()]\n",
    "gpdf.head()"
   ]
  },
  {
   "cell_type": "code",
   "execution_count": 81,
   "metadata": {},
   "outputs": [
    {
     "name": "stderr",
     "output_type": "stream",
     "text": [
      "/home/ubuntu/.local/lib/python3.8/site-packages/pandas/core/generic.py:5491: SettingWithCopyWarning: \n",
      "A value is trying to be set on a copy of a slice from a DataFrame.\n",
      "Try using .loc[row_indexer,col_indexer] = value instead\n",
      "\n",
      "See the caveats in the documentation: https://pandas.pydata.org/pandas-docs/stable/user_guide/indexing.html#returning-a-view-versus-a-copy\n",
      "  self[name] = value\n"
     ]
    },
    {
     "data": {
      "text/html": [
       "<div>\n",
       "<style scoped>\n",
       "    .dataframe tbody tr th:only-of-type {\n",
       "        vertical-align: middle;\n",
       "    }\n",
       "\n",
       "    .dataframe tbody tr th {\n",
       "        vertical-align: top;\n",
       "    }\n",
       "\n",
       "    .dataframe thead th {\n",
       "        text-align: right;\n",
       "    }\n",
       "</style>\n",
       "<table border=\"1\" class=\"dataframe\">\n",
       "  <thead>\n",
       "    <tr style=\"text-align: right;\">\n",
       "      <th></th>\n",
       "      <th>Región</th>\n",
       "      <th>Comuna</th>\n",
       "      <th>Local</th>\n",
       "      <th>mesa</th>\n",
       "      <th>Candidato</th>\n",
       "      <th>Votos</th>\n",
       "    </tr>\n",
       "  </thead>\n",
       "  <tbody>\n",
       "    <tr>\n",
       "      <th>0</th>\n",
       "      <td>1</td>\n",
       "      <td>CAMIÑA</td>\n",
       "      <td>ESCUELA CAMIÑA</td>\n",
       "      <td>1M</td>\n",
       "      <td>PIÑERA</td>\n",
       "      <td>130.0</td>\n",
       "    </tr>\n",
       "    <tr>\n",
       "      <th>1</th>\n",
       "      <td>1</td>\n",
       "      <td>CAMIÑA</td>\n",
       "      <td>ESCUELA CAMIÑA</td>\n",
       "      <td>1M</td>\n",
       "      <td>GUILLIER</td>\n",
       "      <td>28.0</td>\n",
       "    </tr>\n",
       "    <tr>\n",
       "      <th>4</th>\n",
       "      <td>1</td>\n",
       "      <td>CAMIÑA</td>\n",
       "      <td>ESCUELA CAMIÑA</td>\n",
       "      <td>2M</td>\n",
       "      <td>PIÑERA</td>\n",
       "      <td>114.0</td>\n",
       "    </tr>\n",
       "    <tr>\n",
       "      <th>5</th>\n",
       "      <td>1</td>\n",
       "      <td>CAMIÑA</td>\n",
       "      <td>ESCUELA CAMIÑA</td>\n",
       "      <td>2M</td>\n",
       "      <td>GUILLIER</td>\n",
       "      <td>28.0</td>\n",
       "    </tr>\n",
       "    <tr>\n",
       "      <th>8</th>\n",
       "      <td>1</td>\n",
       "      <td>CAMIÑA</td>\n",
       "      <td>ESCUELA CAMIÑA</td>\n",
       "      <td>2V</td>\n",
       "      <td>PIÑERA</td>\n",
       "      <td>90.0</td>\n",
       "    </tr>\n",
       "  </tbody>\n",
       "</table>\n",
       "</div>"
      ],
      "text/plain": [
       "   Región  Comuna           Local mesa Candidato  Votos\n",
       "0       1  CAMIÑA  ESCUELA CAMIÑA   1M    PIÑERA  130.0\n",
       "1       1  CAMIÑA  ESCUELA CAMIÑA   1M  GUILLIER   28.0\n",
       "4       1  CAMIÑA  ESCUELA CAMIÑA   2M    PIÑERA  114.0\n",
       "5       1  CAMIÑA  ESCUELA CAMIÑA   2M  GUILLIER   28.0\n",
       "8       1  CAMIÑA  ESCUELA CAMIÑA   2V    PIÑERA   90.0"
      ]
     },
     "execution_count": 81,
     "metadata": {},
     "output_type": "execute_result"
    }
   ],
   "source": [
    "gpdf = gpdf.rename(columns={'Votos TRICEL':'Votos'})\n",
    "hdf = gpdf[['Región','Comuna','Local','mesa','Candidato','Votos']]\n",
    "hdf.Región=hdf.Región.apply(int)\n",
    "hdf.head()"
   ]
  },
  {
   "cell_type": "code",
   "execution_count": 23,
   "metadata": {},
   "outputs": [
    {
     "data": {
      "text/html": [
       "<div>\n",
       "<style scoped>\n",
       "    .dataframe tbody tr th:only-of-type {\n",
       "        vertical-align: middle;\n",
       "    }\n",
       "\n",
       "    .dataframe tbody tr th {\n",
       "        vertical-align: top;\n",
       "    }\n",
       "\n",
       "    .dataframe thead th {\n",
       "        text-align: right;\n",
       "    }\n",
       "</style>\n",
       "<table border=\"1\" class=\"dataframe\">\n",
       "  <thead>\n",
       "    <tr style=\"text-align: right;\">\n",
       "      <th></th>\n",
       "      <th>Votos</th>\n",
       "    </tr>\n",
       "    <tr>\n",
       "      <th>Candidato</th>\n",
       "      <th></th>\n",
       "    </tr>\n",
       "  </thead>\n",
       "  <tbody>\n",
       "    <tr>\n",
       "      <th>GUILLIER</th>\n",
       "      <td>3147868.0</td>\n",
       "    </tr>\n",
       "    <tr>\n",
       "      <th>PIÑERA</th>\n",
       "      <td>3788641.0</td>\n",
       "    </tr>\n",
       "  </tbody>\n",
       "</table>\n",
       "</div>"
      ],
      "text/plain": [
       "               Votos\n",
       "Candidato           \n",
       "GUILLIER   3147868.0\n",
       "PIÑERA     3788641.0"
      ]
     },
     "execution_count": 23,
     "metadata": {},
     "output_type": "execute_result"
    }
   ],
   "source": [
    "hdf.groupby('Candidato').agg({'Votos':'sum'})"
   ]
  },
  {
   "cell_type": "code",
   "execution_count": 82,
   "metadata": {},
   "outputs": [],
   "source": [
    "import sqlite3\n",
    "hdf.to_sql('presi', sqlite3.connect('cruce.db'),index=False,if_exists='replace')"
   ]
  },
  {
   "cell_type": "code",
   "execution_count": 83,
   "metadata": {},
   "outputs": [
    {
     "name": "stdout",
     "output_type": "stream",
     "text": [
      "-rw-r--r-- 1 ubuntu ubuntu 5636096 Feb 17 14:56 cruce.db\n"
     ]
    }
   ],
   "source": [
    "!ls -l cruce.db"
   ]
  },
  {
   "cell_type": "code",
   "execution_count": 71,
   "metadata": {},
   "outputs": [
    {
     "data": {
      "text/html": [
       "<div>\n",
       "<style scoped>\n",
       "    .dataframe tbody tr th:only-of-type {\n",
       "        vertical-align: middle;\n",
       "    }\n",
       "\n",
       "    .dataframe tbody tr th {\n",
       "        vertical-align: top;\n",
       "    }\n",
       "\n",
       "    .dataframe thead th {\n",
       "        text-align: right;\n",
       "    }\n",
       "</style>\n",
       "<table border=\"1\" class=\"dataframe\">\n",
       "  <thead>\n",
       "    <tr style=\"text-align: right;\">\n",
       "      <th></th>\n",
       "      <th>region</th>\n",
       "      <th>comuna</th>\n",
       "      <th>local</th>\n",
       "      <th>mesa</th>\n",
       "      <th>apruebo</th>\n",
       "      <th>rechazo</th>\n",
       "    </tr>\n",
       "  </thead>\n",
       "  <tbody>\n",
       "    <tr>\n",
       "      <th>0</th>\n",
       "      <td>ANTOFAGASTA</td>\n",
       "      <td>ANTOFAGASTA</td>\n",
       "      <td>COLEGIO ANTOFAGASTA</td>\n",
       "      <td>113M</td>\n",
       "      <td>190</td>\n",
       "      <td>23</td>\n",
       "    </tr>\n",
       "    <tr>\n",
       "      <th>1</th>\n",
       "      <td>ANTOFAGASTA</td>\n",
       "      <td>ANTOFAGASTA</td>\n",
       "      <td>COLEGIO ANTOFAGASTA</td>\n",
       "      <td>114M</td>\n",
       "      <td>179</td>\n",
       "      <td>37</td>\n",
       "    </tr>\n",
       "    <tr>\n",
       "      <th>2</th>\n",
       "      <td>ANTOFAGASTA</td>\n",
       "      <td>ANTOFAGASTA</td>\n",
       "      <td>COLEGIO ANTOFAGASTA</td>\n",
       "      <td>115M</td>\n",
       "      <td>191</td>\n",
       "      <td>29</td>\n",
       "    </tr>\n",
       "  </tbody>\n",
       "</table>\n",
       "</div>"
      ],
      "text/plain": [
       "        region       comuna                local  mesa  apruebo  rechazo\n",
       "0  ANTOFAGASTA  ANTOFAGASTA  COLEGIO ANTOFAGASTA  113M      190       23\n",
       "1  ANTOFAGASTA  ANTOFAGASTA  COLEGIO ANTOFAGASTA  114M      179       37\n",
       "2  ANTOFAGASTA  ANTOFAGASTA  COLEGIO ANTOFAGASTA  115M      191       29"
      ]
     },
     "execution_count": 71,
     "metadata": {},
     "output_type": "execute_result"
    }
   ],
   "source": [
    "ple.region = ple.region.apply(lambda reg: ' '.join(reg.split()[1:]) if reg[:2]=='DE' else reg)\n",
    "ple.head(3)[['region','comuna','local','mesa','apruebo','rechazo']]"
   ]
  },
  {
   "cell_type": "code",
   "execution_count": 84,
   "metadata": {},
   "outputs": [
    {
     "data": {
      "text/html": [
       "<div>\n",
       "<style scoped>\n",
       "    .dataframe tbody tr th:only-of-type {\n",
       "        vertical-align: middle;\n",
       "    }\n",
       "\n",
       "    .dataframe tbody tr th {\n",
       "        vertical-align: top;\n",
       "    }\n",
       "\n",
       "    .dataframe thead th {\n",
       "        text-align: right;\n",
       "    }\n",
       "</style>\n",
       "<table border=\"1\" class=\"dataframe\">\n",
       "  <thead>\n",
       "    <tr style=\"text-align: right;\">\n",
       "      <th></th>\n",
       "      <th>Región</th>\n",
       "      <th>Comuna</th>\n",
       "      <th>Local</th>\n",
       "      <th>mesa</th>\n",
       "      <th>Candidato</th>\n",
       "      <th>Votos</th>\n",
       "    </tr>\n",
       "  </thead>\n",
       "  <tbody>\n",
       "    <tr>\n",
       "      <th>0</th>\n",
       "      <td>1</td>\n",
       "      <td>CAMIÑA</td>\n",
       "      <td>ESCUELA CAMIÑA</td>\n",
       "      <td>1M</td>\n",
       "      <td>PIÑERA</td>\n",
       "      <td>130.0</td>\n",
       "    </tr>\n",
       "    <tr>\n",
       "      <th>1</th>\n",
       "      <td>1</td>\n",
       "      <td>CAMIÑA</td>\n",
       "      <td>ESCUELA CAMIÑA</td>\n",
       "      <td>1M</td>\n",
       "      <td>GUILLIER</td>\n",
       "      <td>28.0</td>\n",
       "    </tr>\n",
       "    <tr>\n",
       "      <th>4</th>\n",
       "      <td>1</td>\n",
       "      <td>CAMIÑA</td>\n",
       "      <td>ESCUELA CAMIÑA</td>\n",
       "      <td>2M</td>\n",
       "      <td>PIÑERA</td>\n",
       "      <td>114.0</td>\n",
       "    </tr>\n",
       "  </tbody>\n",
       "</table>\n",
       "</div>"
      ],
      "text/plain": [
       "   Región  Comuna           Local mesa Candidato  Votos\n",
       "0       1  CAMIÑA  ESCUELA CAMIÑA   1M    PIÑERA  130.0\n",
       "1       1  CAMIÑA  ESCUELA CAMIÑA   1M  GUILLIER   28.0\n",
       "4       1  CAMIÑA  ESCUELA CAMIÑA   2M    PIÑERA  114.0"
      ]
     },
     "execution_count": 84,
     "metadata": {},
     "output_type": "execute_result"
    }
   ],
   "source": [
    "hdf.head(3)"
   ]
  },
  {
   "cell_type": "code",
   "execution_count": 67,
   "metadata": {
    "collapsed": true,
    "jupyter": {
     "outputs_hidden": true
    }
   },
   "outputs": [
    {
     "data": {
      "text/html": [
       "<div>\n",
       "<style scoped>\n",
       "    .dataframe tbody tr th:only-of-type {\n",
       "        vertical-align: middle;\n",
       "    }\n",
       "\n",
       "    .dataframe tbody tr th {\n",
       "        vertical-align: top;\n",
       "    }\n",
       "\n",
       "    .dataframe thead th {\n",
       "        text-align: right;\n",
       "    }\n",
       "</style>\n",
       "<table border=\"1\" class=\"dataframe\">\n",
       "  <thead>\n",
       "    <tr style=\"text-align: right;\">\n",
       "      <th></th>\n",
       "      <th>Región</th>\n",
       "      <th>Comuna</th>\n",
       "      <th>mesa</th>\n",
       "      <th>Candidato</th>\n",
       "      <th>Votos</th>\n",
       "    </tr>\n",
       "  </thead>\n",
       "  <tbody>\n",
       "    <tr>\n",
       "      <th>0</th>\n",
       "      <td>1.0</td>\n",
       "      <td>CAMIÑA</td>\n",
       "      <td>1M</td>\n",
       "      <td>PIÑERA</td>\n",
       "      <td>130.0</td>\n",
       "    </tr>\n",
       "  </tbody>\n",
       "</table>\n",
       "</div>"
      ],
      "text/plain": [
       "   Región  Comuna mesa Candidato  Votos\n",
       "0     1.0  CAMIÑA   1M    PIÑERA  130.0"
      ]
     },
     "execution_count": 67,
     "metadata": {},
     "output_type": "execute_result"
    }
   ],
   "source": [
    "sql = lambda q: pd.read_sql(q, sqlite3.connect('cruce.db'))\n",
    "sql('SELECT * FROM presi LIMIT 1')"
   ]
  },
  {
   "cell_type": "code",
   "execution_count": null,
   "metadata": {},
   "outputs": [],
   "source": [
    "ph10=ple.head(10)[['region','comuna','local','mesa','apruebo','rechazo']]\n",
    "\n",
    "def get_votes(cand, reg, com, loc, mesa):  # mirar en hdf cuáles son los votos del candidato CAND\n",
    "    idx_reg = dreg[reg]   # 'TARAPACA'->1\n",
    "    q = f\"SELECT Votos FROM presi WHERE Candidato='{cand}' AND Región={idx_reg} \\\n",
    "            AND Comuna='{com}' AND Local='{loc}' AND mesa='{mesa}'\" # should we mind float/ints?\n",
    "    #print(q)\n",
    "    data = sql(q)\n",
    "    val = data.values[0][0] if len(data) else -1\n",
    "    return val\n",
    "ph10['PIÑERA'] = ph10.apply(lambda row: get_votes('PIÑERA', row['region'], row['comuna'], row['local'], row['mesa']), axis=1)\n",
    "ph10"
   ]
  },
  {
   "cell_type": "code",
   "execution_count": 50,
   "metadata": {},
   "outputs": [
    {
     "data": {
      "text/html": [
       "<div>\n",
       "<style scoped>\n",
       "    .dataframe tbody tr th:only-of-type {\n",
       "        vertical-align: middle;\n",
       "    }\n",
       "\n",
       "    .dataframe tbody tr th {\n",
       "        vertical-align: top;\n",
       "    }\n",
       "\n",
       "    .dataframe thead th {\n",
       "        text-align: right;\n",
       "    }\n",
       "</style>\n",
       "<table border=\"1\" class=\"dataframe\">\n",
       "  <thead>\n",
       "    <tr style=\"text-align: right;\">\n",
       "      <th></th>\n",
       "      <th>Código Región</th>\n",
       "      <th>Nombre Región</th>\n",
       "      <th>Código Provincia</th>\n",
       "      <th>Nombre Provincia</th>\n",
       "      <th>Código Comuna 2017</th>\n",
       "      <th>Nombre Comuna</th>\n",
       "    </tr>\n",
       "  </thead>\n",
       "  <tbody>\n",
       "    <tr>\n",
       "      <th>0</th>\n",
       "      <td>1</td>\n",
       "      <td>Tarapacá</td>\n",
       "      <td>11</td>\n",
       "      <td>Iquique</td>\n",
       "      <td>1101</td>\n",
       "      <td>Iquique</td>\n",
       "    </tr>\n",
       "    <tr>\n",
       "      <th>1</th>\n",
       "      <td>1</td>\n",
       "      <td>Tarapacá</td>\n",
       "      <td>11</td>\n",
       "      <td>Iquique</td>\n",
       "      <td>1107</td>\n",
       "      <td>Alto Hospicio</td>\n",
       "    </tr>\n",
       "    <tr>\n",
       "      <th>2</th>\n",
       "      <td>1</td>\n",
       "      <td>Tarapacá</td>\n",
       "      <td>14</td>\n",
       "      <td>Tamarugal</td>\n",
       "      <td>1401</td>\n",
       "      <td>Pozo Almonte</td>\n",
       "    </tr>\n",
       "    <tr>\n",
       "      <th>3</th>\n",
       "      <td>1</td>\n",
       "      <td>Tarapacá</td>\n",
       "      <td>14</td>\n",
       "      <td>Tamarugal</td>\n",
       "      <td>1402</td>\n",
       "      <td>Camiña</td>\n",
       "    </tr>\n",
       "    <tr>\n",
       "      <th>4</th>\n",
       "      <td>1</td>\n",
       "      <td>Tarapacá</td>\n",
       "      <td>14</td>\n",
       "      <td>Tamarugal</td>\n",
       "      <td>1403</td>\n",
       "      <td>Colchane</td>\n",
       "    </tr>\n",
       "  </tbody>\n",
       "</table>\n",
       "</div>"
      ],
      "text/plain": [
       "   Código Región Nombre Región  Código Provincia Nombre Provincia  \\\n",
       "0              1      Tarapacá                11          Iquique   \n",
       "1              1      Tarapacá                11          Iquique   \n",
       "2              1      Tarapacá                14        Tamarugal   \n",
       "3              1      Tarapacá                14        Tamarugal   \n",
       "4              1      Tarapacá                14        Tamarugal   \n",
       "\n",
       "   Código Comuna 2017  Nombre Comuna  \n",
       "0                1101        Iquique  \n",
       "1                1107  Alto Hospicio  \n",
       "2                1401   Pozo Almonte  \n",
       "3                1402         Camiña  \n",
       "4                1403       Colchane  "
      ]
     },
     "execution_count": 50,
     "metadata": {},
     "output_type": "execute_result"
    }
   ],
   "source": [
    "cut = pd.read_excel('cut_2018_v03.xls')\n",
    "cut.head()"
   ]
  },
  {
   "cell_type": "code",
   "execution_count": 69,
   "metadata": {},
   "outputs": [
    {
     "data": {
      "text/plain": [
       "{'TARAPACA': 1,\n",
       " 'ANTOFAGASTA': 2,\n",
       " 'ATACAMA': 3,\n",
       " 'COQUIMBO': 4,\n",
       " 'VALPARAISO': 5,\n",
       " \"LIBERTADOR GENERAL BERNARDO O'HIGGINS\": 6,\n",
       " 'MAULE': 7,\n",
       " 'BIOBIO': 8,\n",
       " 'LA ARAUCANIA': 9,\n",
       " 'LOS LAGOS': 10,\n",
       " 'AYSEN DEL GENERAL CARLOS IBAÑEZ DEL CAMPO': 11,\n",
       " 'MAGALLANES Y DE LA ANTARTICA CHILENA': 12,\n",
       " 'METROPOLITANA DE SANTIAGO': 13,\n",
       " 'LOS RIOS': 14,\n",
       " 'ARICA Y PARINACOTA': 15,\n",
       " 'ÑUBLE': 16}"
      ]
     },
     "execution_count": 69,
     "metadata": {},
     "output_type": "execute_result"
    }
   ],
   "source": [
    "regs=list(cut.groupby(['Código Región','Nombre Región']).size().to_dict().keys())\n",
    "regs=[(r[0],r[1].upper().replace('Á','A').replace('É','E').replace('Í','I')) for r in regs]\n",
    "dreg = {v:k for k,v in dict(regs).items()}\n",
    "dreg"
   ]
  },
  {
   "cell_type": "code",
   "execution_count": 59,
   "metadata": {},
   "outputs": [
    {
     "data": {
      "text/plain": [
       "METROPOLITANA DE SANTIAGO                    17559\n",
       "VALPARAISO                                    4744\n",
       "BIOBIO                                        4087\n",
       "MAULE                                         2650\n",
       "LA ARAUCANIA                                  2612\n",
       "LIBERTADOR GENERAL BERNARDO O'HIGGINS         2271\n",
       "LOS LAGOS                                     2247\n",
       "COQUIMBO                                      1794\n",
       "ANTOFAGASTA                                   1390\n",
       "ÑUBLE                                         1287\n",
       "LOS RIOS                                      1065\n",
       "TARAPACA                                       865\n",
       "ATACAMA                                        769\n",
       "ARICA Y PARINACOTA                             552\n",
       "MAGALLANES Y DE LA ANTARTICA CHILENA           505\n",
       "AYSEN DEL GENERAL CARLOS IBAÑEZ DEL CAMPO      300\n",
       "Name: region, dtype: int64"
      ]
     },
     "execution_count": 59,
     "metadata": {},
     "output_type": "execute_result"
    }
   ],
   "source": [
    "ple['region']=ple.region.apply(lambda reg: ' '.join(reg.split()[1:]) if reg[:2]=='DE' else reg)                            \n",
    "ple.region.value_counts()"
   ]
  },
  {
   "cell_type": "code",
   "execution_count": 90,
   "metadata": {},
   "outputs": [
    {
     "data": {
      "text/html": [
       "<div>\n",
       "<style scoped>\n",
       "    .dataframe tbody tr th:only-of-type {\n",
       "        vertical-align: middle;\n",
       "    }\n",
       "\n",
       "    .dataframe tbody tr th {\n",
       "        vertical-align: top;\n",
       "    }\n",
       "\n",
       "    .dataframe thead th {\n",
       "        text-align: right;\n",
       "    }\n",
       "</style>\n",
       "<table border=\"1\" class=\"dataframe\">\n",
       "  <thead>\n",
       "    <tr style=\"text-align: right;\">\n",
       "      <th></th>\n",
       "      <th>Comuna</th>\n",
       "      <th>SUM(Votos)</th>\n",
       "    </tr>\n",
       "  </thead>\n",
       "  <tbody>\n",
       "    <tr>\n",
       "      <th>0</th>\n",
       "      <td>ALTO HOSPICIO</td>\n",
       "      <td>9969.0</td>\n",
       "    </tr>\n",
       "    <tr>\n",
       "      <th>1</th>\n",
       "      <td>CAMIÑA</td>\n",
       "      <td>617.0</td>\n",
       "    </tr>\n",
       "    <tr>\n",
       "      <th>2</th>\n",
       "      <td>COLCHANE</td>\n",
       "      <td>814.0</td>\n",
       "    </tr>\n",
       "    <tr>\n",
       "      <th>3</th>\n",
       "      <td>HUARA</td>\n",
       "      <td>934.0</td>\n",
       "    </tr>\n",
       "    <tr>\n",
       "      <th>4</th>\n",
       "      <td>IQUIQUE</td>\n",
       "      <td>38382.0</td>\n",
       "    </tr>\n",
       "    <tr>\n",
       "      <th>5</th>\n",
       "      <td>PICA</td>\n",
       "      <td>1191.0</td>\n",
       "    </tr>\n",
       "    <tr>\n",
       "      <th>6</th>\n",
       "      <td>POZO ALMONTE</td>\n",
       "      <td>2472.0</td>\n",
       "    </tr>\n",
       "  </tbody>\n",
       "</table>\n",
       "</div>"
      ],
      "text/plain": [
       "          Comuna  SUM(Votos)\n",
       "0  ALTO HOSPICIO      9969.0\n",
       "1         CAMIÑA       617.0\n",
       "2       COLCHANE       814.0\n",
       "3          HUARA       934.0\n",
       "4        IQUIQUE     38382.0\n",
       "5           PICA      1191.0\n",
       "6   POZO ALMONTE      2472.0"
      ]
     },
     "execution_count": 90,
     "metadata": {},
     "output_type": "execute_result"
    }
   ],
   "source": [
    "q = \"SELECT Comuna, SUM(Votos) FROM presi WHERE Candidato='PIÑERA' AND Región=1 GROUP BY Comuna \" #              AND Comuna='CAMIÑA' AND Local='ESCUELA CAMIÑA' AND mesa='1M'\"\n",
    "sql(q)"
   ]
  },
  {
   "cell_type": "code",
   "execution_count": null,
   "metadata": {},
   "outputs": [
    {
     "name": "stdout",
     "output_type": "stream",
     "text": [
      "> \u001b[0;32m<ipython-input-94-0ae3d2cd05f6>\u001b[0m(8)\u001b[0;36mget_votes\u001b[0;34m()\u001b[0m\n",
      "\u001b[0;32m      6 \u001b[0;31m            \u001b[0mAND\u001b[0m \u001b[0mComuna\u001b[0m\u001b[0;34m=\u001b[0m\u001b[0;34m'{com}'\u001b[0m \u001b[0mAND\u001b[0m \u001b[0mLocal\u001b[0m\u001b[0;34m=\u001b[0m\u001b[0;34m'{loc}'\u001b[0m \u001b[0mAND\u001b[0m \u001b[0mmesa\u001b[0m\u001b[0;34m=\u001b[0m\u001b[0;34m'{mesa}'\u001b[0m\u001b[0;31m\"\u001b[0m \u001b[0;31m# should we mind float/ints?\u001b[0m\u001b[0;34m\u001b[0m\u001b[0;34m\u001b[0m\u001b[0m\n",
      "\u001b[0m\u001b[0;32m      7 \u001b[0;31m    \u001b[0;31m#print(q)\u001b[0m\u001b[0;34m\u001b[0m\u001b[0;34m\u001b[0m\u001b[0;34m\u001b[0m\u001b[0m\n",
      "\u001b[0m\u001b[0;32m----> 8 \u001b[0;31m    \u001b[0;32mreturn\u001b[0m \u001b[0msql\u001b[0m\u001b[0;34m(\u001b[0m\u001b[0mq\u001b[0m\u001b[0;34m)\u001b[0m\u001b[0;34m.\u001b[0m\u001b[0mvalues\u001b[0m\u001b[0;34m[\u001b[0m\u001b[0;36m0\u001b[0m\u001b[0;34m]\u001b[0m\u001b[0;34m[\u001b[0m\u001b[0;36m0\u001b[0m\u001b[0;34m]\u001b[0m\u001b[0;34m\u001b[0m\u001b[0;34m\u001b[0m\u001b[0m\n",
      "\u001b[0m\u001b[0;32m      9 \u001b[0;31m\u001b[0mph10\u001b[0m\u001b[0;34m[\u001b[0m\u001b[0;34m'PIÑERA'\u001b[0m\u001b[0;34m]\u001b[0m \u001b[0;34m=\u001b[0m \u001b[0mph10\u001b[0m\u001b[0;34m.\u001b[0m\u001b[0mapply\u001b[0m\u001b[0;34m(\u001b[0m\u001b[0;32mlambda\u001b[0m \u001b[0mrow\u001b[0m\u001b[0;34m:\u001b[0m \u001b[0mget_votes\u001b[0m\u001b[0;34m(\u001b[0m\u001b[0;34m'PIÑERA'\u001b[0m\u001b[0;34m,\u001b[0m \u001b[0mrow\u001b[0m\u001b[0;34m[\u001b[0m\u001b[0;34m'region'\u001b[0m\u001b[0;34m]\u001b[0m\u001b[0;34m,\u001b[0m \u001b[0mrow\u001b[0m\u001b[0;34m[\u001b[0m\u001b[0;34m'comuna'\u001b[0m\u001b[0;34m]\u001b[0m\u001b[0;34m,\u001b[0m \u001b[0mrow\u001b[0m\u001b[0;34m[\u001b[0m\u001b[0;34m'local'\u001b[0m\u001b[0;34m]\u001b[0m\u001b[0;34m,\u001b[0m \u001b[0mrow\u001b[0m\u001b[0;34m[\u001b[0m\u001b[0;34m'mesa'\u001b[0m\u001b[0;34m]\u001b[0m\u001b[0;34m)\u001b[0m\u001b[0;34m,\u001b[0m \u001b[0maxis\u001b[0m\u001b[0;34m=\u001b[0m\u001b[0;36m1\u001b[0m\u001b[0;34m)\u001b[0m\u001b[0;34m\u001b[0m\u001b[0;34m\u001b[0m\u001b[0m\n",
      "\u001b[0m\u001b[0;32m     10 \u001b[0;31m\u001b[0mph10\u001b[0m\u001b[0;34m\u001b[0m\u001b[0;34m\u001b[0m\u001b[0m\n",
      "\u001b[0m\n"
     ]
    },
    {
     "name": "stdin",
     "output_type": "stream",
     "text": [
      "ipdb>  print(q)\n"
     ]
    },
    {
     "name": "stdout",
     "output_type": "stream",
     "text": [
      "SELECT Votos FROM presi WHERE Candidato='PIÑERA' AND Región=2             AND Comuna='ANTOFAGASTA' AND Local='COLEGIO ANTOFAGASTA' AND mesa='113M'\n"
     ]
    },
    {
     "name": "stdin",
     "output_type": "stream",
     "text": [
      "ipdb>  up\n"
     ]
    },
    {
     "name": "stdout",
     "output_type": "stream",
     "text": [
      "> \u001b[0;32m<ipython-input-94-0ae3d2cd05f6>\u001b[0m(9)\u001b[0;36m<lambda>\u001b[0;34m()\u001b[0m\n",
      "\u001b[0;32m      6 \u001b[0;31m            \u001b[0mAND\u001b[0m \u001b[0mComuna\u001b[0m\u001b[0;34m=\u001b[0m\u001b[0;34m'{com}'\u001b[0m \u001b[0mAND\u001b[0m \u001b[0mLocal\u001b[0m\u001b[0;34m=\u001b[0m\u001b[0;34m'{loc}'\u001b[0m \u001b[0mAND\u001b[0m \u001b[0mmesa\u001b[0m\u001b[0;34m=\u001b[0m\u001b[0;34m'{mesa}'\u001b[0m\u001b[0;31m\"\u001b[0m \u001b[0;31m# should we mind float/ints?\u001b[0m\u001b[0;34m\u001b[0m\u001b[0;34m\u001b[0m\u001b[0m\n",
      "\u001b[0m\u001b[0;32m      7 \u001b[0;31m    \u001b[0;31m#print(q)\u001b[0m\u001b[0;34m\u001b[0m\u001b[0;34m\u001b[0m\u001b[0;34m\u001b[0m\u001b[0m\n",
      "\u001b[0m\u001b[0;32m      8 \u001b[0;31m    \u001b[0;32mreturn\u001b[0m \u001b[0msql\u001b[0m\u001b[0;34m(\u001b[0m\u001b[0mq\u001b[0m\u001b[0;34m)\u001b[0m\u001b[0;34m.\u001b[0m\u001b[0mvalues\u001b[0m\u001b[0;34m[\u001b[0m\u001b[0;36m0\u001b[0m\u001b[0;34m]\u001b[0m\u001b[0;34m[\u001b[0m\u001b[0;36m0\u001b[0m\u001b[0;34m]\u001b[0m\u001b[0;34m\u001b[0m\u001b[0;34m\u001b[0m\u001b[0m\n",
      "\u001b[0m\u001b[0;32m----> 9 \u001b[0;31m\u001b[0mph10\u001b[0m\u001b[0;34m[\u001b[0m\u001b[0;34m'PIÑERA'\u001b[0m\u001b[0;34m]\u001b[0m \u001b[0;34m=\u001b[0m \u001b[0mph10\u001b[0m\u001b[0;34m.\u001b[0m\u001b[0mapply\u001b[0m\u001b[0;34m(\u001b[0m\u001b[0;32mlambda\u001b[0m \u001b[0mrow\u001b[0m\u001b[0;34m:\u001b[0m \u001b[0mget_votes\u001b[0m\u001b[0;34m(\u001b[0m\u001b[0;34m'PIÑERA'\u001b[0m\u001b[0;34m,\u001b[0m \u001b[0mrow\u001b[0m\u001b[0;34m[\u001b[0m\u001b[0;34m'region'\u001b[0m\u001b[0;34m]\u001b[0m\u001b[0;34m,\u001b[0m \u001b[0mrow\u001b[0m\u001b[0;34m[\u001b[0m\u001b[0;34m'comuna'\u001b[0m\u001b[0;34m]\u001b[0m\u001b[0;34m,\u001b[0m \u001b[0mrow\u001b[0m\u001b[0;34m[\u001b[0m\u001b[0;34m'local'\u001b[0m\u001b[0;34m]\u001b[0m\u001b[0;34m,\u001b[0m \u001b[0mrow\u001b[0m\u001b[0;34m[\u001b[0m\u001b[0;34m'mesa'\u001b[0m\u001b[0;34m]\u001b[0m\u001b[0;34m)\u001b[0m\u001b[0;34m,\u001b[0m \u001b[0maxis\u001b[0m\u001b[0;34m=\u001b[0m\u001b[0;36m1\u001b[0m\u001b[0;34m)\u001b[0m\u001b[0;34m\u001b[0m\u001b[0;34m\u001b[0m\u001b[0m\n",
      "\u001b[0m\u001b[0;32m     10 \u001b[0;31m\u001b[0mph10\u001b[0m\u001b[0;34m\u001b[0m\u001b[0;34m\u001b[0m\u001b[0m\n",
      "\u001b[0m\n"
     ]
    },
    {
     "name": "stdin",
     "output_type": "stream",
     "text": [
      "ipdb>  p= ple.head(10)[['region','comuna','local','mesa','apruebo','rechazo']]h10.to_csv('ph1\n"
     ]
    },
    {
     "name": "stdout",
     "output_type": "stream",
     "text": [
      "*** SyntaxError: invalid syntax\n"
     ]
    },
    {
     "name": "stdin",
     "output_type": "stream",
     "text": [
      "ipdb>  px = ple[['region','comuna','local','mesa','apruebo','rechazo']]\n",
      "ipdb>  px.to_csv('plebiscito.csv',index=False)\n",
      "ipdb>  import pickle\n",
      "ipdb>  pickle.dump(dregs,open('regiones.pk','rb'))\n"
     ]
    },
    {
     "name": "stdout",
     "output_type": "stream",
     "text": [
      "*** NameError: name 'dregs' is not defined\n"
     ]
    },
    {
     "name": "stdin",
     "output_type": "stream",
     "text": [
      "ipdb>  pickle.dump(dreg, open('regiones.pk','rb'))\n"
     ]
    },
    {
     "name": "stdout",
     "output_type": "stream",
     "text": [
      "*** FileNotFoundError: [Errno 2] No such file or directory: 'regiones.pk'\n"
     ]
    },
    {
     "name": "stdin",
     "output_type": "stream",
     "text": [
      "ipdb>  pickle.dump(dreg, open('regiones.pk','wb'))\n",
      "ipdb>  hdf.columns\n"
     ]
    },
    {
     "name": "stdout",
     "output_type": "stream",
     "text": [
      "Index(['Región', 'Comuna', 'Local', 'mesa', 'Candidato', 'Votos'], dtype='object')\n"
     ]
    },
    {
     "name": "stdin",
     "output_type": "stream",
     "text": [
      "ipdb>  hdf=hdf.rename{columns={'Región':'region','Comuna':'comuna','Local':'local})\n"
     ]
    },
    {
     "name": "stdout",
     "output_type": "stream",
     "text": [
      "*** SyntaxError: invalid syntax\n"
     ]
    },
    {
     "name": "stdin",
     "output_type": "stream",
     "text": [
      "ipdb>  hdf=hdf.rename(columns={'Región':'region','Comuna':'comuna','Local':'local})\n"
     ]
    },
    {
     "name": "stdout",
     "output_type": "stream",
     "text": [
      "*** SyntaxError: EOL while scanning string literal\n"
     ]
    },
    {
     "name": "stdin",
     "output_type": "stream",
     "text": [
      "ipdb>  hdf=hdf.rename{columns={'Región':'region','Comuna':'comuna','Local':'local'})\n"
     ]
    },
    {
     "name": "stdout",
     "output_type": "stream",
     "text": [
      "*** SyntaxError: invalid syntax\n"
     ]
    },
    {
     "name": "stdin",
     "output_type": "stream",
     "text": [
      "ipdb>  hdf=hdf.rename(columns={'Región':'region','Comuna':'comuna','Local':'local})\n"
     ]
    },
    {
     "name": "stdout",
     "output_type": "stream",
     "text": [
      "*** SyntaxError: EOL while scanning string literal\n"
     ]
    },
    {
     "name": "stdin",
     "output_type": "stream",
     "text": [
      "ipdb>  hdf=hdf.rename(columns={'Región':'region','Comuna':'comuna','Local':'local'})\n",
      "ipdb>  hdf.to_sql('presi', sqlite3.connect('cruce.db'),index=False,if_exists='replace')\n",
      "ipdb>  hdf.to_sql('presi', sqlite3.connect('cruce.db'),index=False,if_exists='replace')\n",
      "ipdb>  hdf.iloc[0]\n"
     ]
    },
    {
     "name": "stdout",
     "output_type": "stream",
     "text": [
      "region                    1\n",
      "comuna               CAMIÑA\n",
      "local        ESCUELA CAMIÑA\n",
      "mesa                     1M\n",
      "Candidato            PIÑERA\n",
      "Votos                 130.0\n",
      "Name: 0, dtype: object\n"
     ]
    }
   ],
   "source": []
  },
  {
   "cell_type": "code",
   "execution_count": null,
   "metadata": {},
   "outputs": [],
   "source": [
    "sql(\"SELECT mesa, Votos FROM presi WHERE Candidato='PIÑERA' AND Región=2             AND Comuna='ANTOFAGASTA' AND Local='COLEGIO ANTOFAGASTA'\""
   ]
  },
  {
   "cell_type": "code",
   "execution_count": null,
   "metadata": {},
   "outputs": [],
   "source": [
    "hdf.to_sql('presi', sqlite3.connect('cruce.db'),index=False,if_exists='replace')"
   ]
  }
 ],
 "metadata": {
  "kernelspec": {
   "display_name": "Python 3",
   "language": "python",
   "name": "python3"
  },
  "language_info": {
   "codemirror_mode": {
    "name": "ipython",
    "version": 3
   },
   "file_extension": ".py",
   "mimetype": "text/x-python",
   "name": "python",
   "nbconvert_exporter": "python",
   "pygments_lexer": "ipython3",
   "version": "3.8.5"
  }
 },
 "nbformat": 4,
 "nbformat_minor": 4
}
